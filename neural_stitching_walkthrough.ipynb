{
 "cells": [
  {
   "cell_type": "code",
   "execution_count": 1,
   "metadata": {
    "Collapsed": "false"
   },
   "outputs": [],
   "source": [
    "desktop"
   ]
  },
  {
   "cell_type": "code",
   "execution_count": 3,
   "metadata": {
    "Collapsed": "false"
   },
   "outputs": [],
   "source": [
    "addpath ~\n",
    "addpath ~/npl\n",
    "startupJupyter\n",
    "pierreSettingsEric"
   ]
  },
  {
   "cell_type": "markdown",
   "metadata": {
    "Collapsed": "false"
   },
   "source": [
    "# Construct the LFADS Run manager objects"
   ]
  },
  {
   "cell_type": "code",
   "execution_count": 36,
   "metadata": {
    "Collapsed": "false"
   },
   "outputs": [],
   "source": [
    "% set these to the appropriate paths\n",
    "lfadsRoot = getenv('LFADS_DATA_ROOT');\n",
    "lfadsExportRoot = fullfile(lfadsRoot, 'export_v05_broadbandRethreshNonSorted_filtered');\n",
    "lfadsRunRoot = fullfile(lfadsRoot, 'runs');\n",
    "\n",
    "assert(exist(lfadsExportRoot, 'dir') > 0)\n",
    "assert(exist(lfadsRunRoot, 'dir') > 0)"
   ]
  },
  {
   "cell_type": "code",
   "execution_count": 37,
   "metadata": {
    "Collapsed": "false"
   },
   "outputs": [
    {
     "name": "stdout",
     "output_type": "stream",
     "text": [
      "Loading info :      0% [               ]    2.3% [               ]    4.5% [               ]    6.8% [_              ]    9.1% [_              ]   11.4% [_              ]   13.6% [__             ]   15.9% [__             ]   18.2% [__             ]   20.5% [___            ]   22.7% [___            ]     25% [___            ]   27.3% [____           ]   29.5% [____           ]   31.8% [____           ]   34.1% [_____          ]   36.4% [_____          ]   38.6% [_____          ]   40.9% [______         ]   43.2% [______         ]   45.5% [______         ]   47.7% [_______        ]     50% [_______        ]   52.3% [_______        ]   54.5% [________       ]   56.8% [________       ]   59.1% [________       ]   61.4% [_________      ]   63.6% [_________      ]   65.9% [_________      ]   68.2% [__________     ]   70.5% [__________     ]   72.7% [__________     ]     75% [___________    ]   77.3% [___________    ]   79.5% [___________    ]   81.8% [____________   ]   84.1% [____________   ]   86.4% [____________   ]   88.6% [_____________  ]   90.9% [_____________  ]   93.2% [_____________  ]   95.5% [______________ ]   97.7% [______________ ]    100% [_______________]   \n"
     ]
    }
   ],
   "source": [
    "dc = PierreEricLFADS.DatasetCollection(lfadsExportRoot);\n",
    "dc.context = 'Eric_v5';\n",
    "dc.autoDetectDatasets();\n",
    "dc.loadInfo();"
   ]
  },
  {
   "cell_type": "code",
   "execution_count": 38,
   "metadata": {
    "Collapsed": "false"
   },
   "outputs": [
    {
     "name": "stdout",
     "output_type": "stream",
     "text": [
      "\n",
      "dc = \n",
      "\n",
      "PierreEricLFADS.DatasetCollection \"export_v05_broadbandRethreshNonSorted_filtered\"\n",
      "  44 datasets in /data6/Pierre42/lfads/export_v05_broadbandRethreshNonSorted_filtered\n",
      "  [ 1] PierreEricLFADS.Dataset \"subject_Pierre.date_2016-08-19.saveTagGroup_1.saveTag_2_3_5_export\"\n",
      "  [ 2] PierreEricLFADS.Dataset \"subject_Pierre.date_2016-08-23.saveTagGroup_1.saveTag_1_2_3_4_5_7_export\"\n",
      "  [ 3] PierreEricLFADS.Dataset \"subject_Pierre.date_2016-08-24.saveTagGroup_1.saveTag_1_2_3_4_5_6_7_8_9_10_11_12_export\"\n",
      "  [ 4] PierreEricLFADS.Dataset \"subject_Pierre.date_2016-08-25.saveTagGroup_1.saveTag_1_2_3_4_5_6_7_8_9_10_11_export\"\n",
      "  [ 5] PierreEricLFADS.Dataset \"subject_Pierre.date_2016-08-26.saveTagGroup_1.saveTag_1_2_3_4_5_6_7_8_9_10_11_12_14_export\"\n",
      "  [ 6] PierreEricLFADS.Dataset \"subject_Pierre.date_2016-08-31.saveTagGroup_1.saveTag_2_3_4_5_6_7_8_9_10_11_12_13_14_15_16_17_18_export\"\n",
      "  [ 7] PierreEricLFADS.Dataset \"subject_Pierre.date_2016-09-01.saveTagGroup_1.saveTag_3_4_5_6_7_8_9_10_11_12_13_14_export\"\n",
      "  [ 8] PierreEricLFADS.Dataset \"subject_Pierre.date_2016-09-03.saveTagGroup_2.saveTag_7_8_9_10_11_12_export\"\n",
      "  [ 9] PierreEricLFADS.Dataset \"subject_Pierre.date_2016-09-04.saveTagGroup_2.saveTag_1_2_3_4_5_6_7_8_9_10_11_export\"\n",
      "  [10] PierreEricLFADS.Dataset \"subject_Pierre.date_2016-09-05.saveTagGroup_1.saveTag_4_5_6_7_8_9_10_11_export\"\n",
      "  [11] PierreEricLFADS.Dataset \"subject_Pierre.date_2016-09-14.saveTagGroup_1.saveTag_2_4_5_6_7_8_9_10_11_export\"\n",
      "  [12] PierreEricLFADS.Dataset \"subject_Pierre.date_2016-09-15.saveTagGroup_1.saveTag_5_6_7_8_9_10_11_12_13_14_15_16_17_18_19_export\"\n",
      "  [13] PierreEricLFADS.Dataset \"subject_Pierre.date_2016-09-16.saveTagGroup_1.saveTag_3_4_5_6_7_8_export\"\n",
      "  [14] PierreEricLFADS.Dataset \"subject_Pierre.date_2016-09-16.saveTagGroup_2.saveTag_9_10_11_12_13_14_export\"\n",
      "  [15] PierreEricLFADS.Dataset \"subject_Pierre.date_2016-09-17.saveTagGroup_1.saveTag_2_3_4_5_6_export\"\n",
      "  [16] PierreEricLFADS.Dataset \"subject_Pierre.date_2016-09-17.saveTagGroup_2.saveTag_8_9_10_11_12_export\"\n",
      "  [17] PierreEricLFADS.Dataset \"subject_Pierre.date_2016-09-20.saveTagGroup_1.saveTag_2_3_4_5_6_7_9_export\"\n",
      "  [18] PierreEricLFADS.Dataset \"subject_Pierre.date_2016-09-20.saveTagGroup_2.saveTag_10_11_12_13_14_15_16_17_18_export\"\n",
      "  [19] PierreEricLFADS.Dataset \"subject_Pierre.date_2016-09-21.saveTagGroup_1.saveTag_2_3_4_5_6_7_8_9_10_export\"\n",
      "  [20] PierreEricLFADS.Dataset \"subject_Pierre.date_2016-09-21.saveTagGroup_2.saveTag_12_13_14_15_16_17_18_export\"\n",
      "  [21] PierreEricLFADS.Dataset \"subject_Pierre.date_2016-09-22.saveTagGroup_1.saveTag_1_2_3_4_5_6_7_8_9_10_export\"\n",
      "  [22] PierreEricLFADS.Dataset \"subject_Pierre.date_2016-09-23.saveTagGroup_1.saveTag_1_2_3_4_5_6_7_8_9_export\"\n",
      "  [23] PierreEricLFADS.Dataset \"subject_Pierre.date_2016-09-26.saveTagGroup_1.saveTag_2_3_4_5_6_7_8_9_10_export\"\n",
      "  [24] PierreEricLFADS.Dataset \"subject_Pierre.date_2016-09-27.saveTagGroup_1.saveTag_1_2_3_4_5_6_7_8_9_10_export\"\n",
      "  [25] PierreEricLFADS.Dataset \"subject_Pierre.date_2016-09-27.saveTagGroup_2.saveTag_11_12_13_14_15_16_17_18_19_20_21_22_23_export\"\n",
      "  [26] PierreEricLFADS.Dataset \"subject_Pierre.date_2016-09-28.saveTagGroup_1.saveTag_2_3_4_5_6_7_8_9_export\"\n",
      "  [27] PierreEricLFADS.Dataset \"subject_Pierre.date_2016-09-28.saveTagGroup_2.saveTag_10_11_12_13_14_15_export\"\n",
      "  [28] PierreEricLFADS.Dataset \"subject_Pierre.date_2016-09-29.saveTagGroup_1.saveTag_3_4_5_6_7_export\"\n",
      "  [29] PierreEricLFADS.Dataset \"subject_Pierre.date_2016-09-29.saveTagGroup_2.saveTag_8_9_10_11_12_13_14_export\"\n",
      "  [30] PierreEricLFADS.Dataset \"subject_Pierre.date_2016-11-21.saveTagGroup_1.saveTag_1_2_export\"\n",
      "  [31] PierreEricLFADS.Dataset \"subject_Pierre.date_2016-11-22.saveTagGroup_1.saveTag_1_2_3_4_export\"\n",
      "  [32] PierreEricLFADS.Dataset \"subject_Pierre.date_2016-11-23.saveTagGroup_1.saveTag_2_3_4_export\"\n",
      "  [33] PierreEricLFADS.Dataset \"subject_Pierre.date_2016-12-04.saveTagGroup_1.saveTag_1_2_export\"\n",
      "  [34] PierreEricLFADS.Dataset \"subject_Pierre.date_2016-12-07.saveTagGroup_1.saveTag_2_3_export\"\n",
      "  [35] PierreEricLFADS.Dataset \"subject_Pierre.date_2016-12-08.saveTagGroup_1.saveTag_1_2_3_export\"\n",
      "  [36] PierreEricLFADS.Dataset \"subject_Pierre.date_2016-12-11.saveTagGroup_2.saveTag_1_2_3_4_5_6_export\"\n",
      "  [37] PierreEricLFADS.Dataset \"subject_Pierre.date_2016-12-12.saveTagGroup_1.saveTag_3_4_5_6_7_8_export\"\n",
      "  [38] PierreEricLFADS.Dataset \"subject_Pierre.date_2016-12-19.saveTagGroup_1.saveTag_1_2_3_4_5_6_7_export\"\n",
      "  [39] PierreEricLFADS.Dataset \"subject_Pierre.date_2016-12-20.saveTagGroup_1.saveTag_1_2_3_4_5_export\"\n",
      "  [40] PierreEricLFADS.Dataset \"subject_Pierre.date_2016-12-21.saveTagGroup_1.saveTag_1_2_3_4_5_6_7_8_9_10_export\"\n",
      "  [41] PierreEricLFADS.Dataset \"subject_Pierre.date_2016-12-22.saveTagGroup_1.saveTag_1_2_3_4_5_6_7_8_9_10_11_export\"\n",
      "  [42] PierreEricLFADS.Dataset \"subject_Pierre.date_2016-12-25.saveTagGroup_2.saveTag_4_5_6_7_8_9_export\"\n",
      "  [43] PierreEricLFADS.Dataset \"subject_Pierre.date_2017-01-27.saveTagGroup_1.saveTag_3_4_5_6_7_8_9_export\"\n",
      "  [44] PierreEricLFADS.Dataset \"subject_Pierre.date_2017-01-28.saveTagGroup_2.saveTag_1_2_3_4_5_6_7_8_export\"\n",
      "\n",
      "         context: 'Eric_v5'\n",
      "    trialDataSet: []\n",
      "            name: 'export_v05_broadbandRethreshNonSorted_filtered'\n",
      "         comment: ''\n",
      "            path: '/data6/Pierre42/lfads/export_v05_broadbandRethreshNonSorted_filtered'\n",
      "        datasets: [44×1 PierreEricLFADS.Dataset]\n",
      "       nDatasets: 44\n",
      "    datasetNames: {44×1 cell}\n",
      "      infoLoaded: 1\n",
      "\n"
     ]
    }
   ],
   "source": [
    "dc"
   ]
  },
  {
   "cell_type": "code",
   "execution_count": 40,
   "metadata": {
    "Collapsed": "false"
   },
   "outputs": [],
   "source": [
    "% Configure hyperparameters\n",
    "par = PierreEricLFADS.RunParams;\n",
    "par.version = 20171107;\n",
    "par.c_batch_size = 40;\n",
    "\n",
    "par.nTrialsKeep = Inf;\n",
    "par.spikeBinMs = 10;\n",
    "par.preKeep = 500;\n",
    "par.postKeep = 700;\n",
    "par.align = 'GoCue';\n",
    "\n",
    "par.useAlignmentMatrix = true;\n",
    "par.useSingleDatasetAlignmentMatrix = false;\n",
    "\n",
    "par.c_factors_dim = 8;\n",
    "par.c_ic_enc_dim = 100;\n",
    "par.c_ci_enc_dim = 100;\n",
    "par.c_gen_dim = 100;\n",
    "\n",
    "par.c_learning_rate_stop = 1e-3;\n",
    "par.c_l2_increase_steps = 900;\n",
    "par.c_kl_increase_steps = 900;\n",
    "par.c_learning_rate_decay_factor = 0.98;\n",
    "par.c_co_dim = 0; % no controller\n",
    "par.c_factors_dim = 16;\n",
    "par.posterior_mean_kind = 'posterior_sample_and_average';\n",
    "par.num_samples_posterior = 512;\n",
    "\n",
    "par.c_do_train_readin = false; % we used a fixed readin matrix for the paper, setting this to true also works"
   ]
  },
  {
   "cell_type": "code",
   "execution_count": 41,
   "metadata": {
    "Collapsed": "false"
   },
   "outputs": [],
   "source": [
    "% Datasets have been already filtered for you, but this code was run:\n",
    "% dc.filterHavingMinimumTrials(ceil(par.c_batch_size * (par.trainToTestRatio+1)));\n",
    "% dc.filterHasHighSNRChannels();"
   ]
  },
  {
   "cell_type": "code",
   "execution_count": 42,
   "metadata": {
    "Collapsed": "false"
   },
   "outputs": [],
   "source": [
    "%% Build run Collection\n",
    "rc = PierreEricLFADS.RunCollection(lfadsRunRoot, 'singleVsStitched_v11', dc);\n",
    "rc.addParams(par);\n",
    "\n",
    "cls = 'PierreEricLFADS.Run';\n",
    "for iR = 1:dc.nDatasets\n",
    "    rc.addRunSpec(LFADS.RunSpec(dc.datasets(iR).getSingleRunName(), cls, dc, iR));\n",
    "end\n",
    "\n",
    "% stitched with all datasets\n",
    "rc.addRunSpec(LFADS.RunSpec('all', cls, dc, 1:dc.nDatasets));"
   ]
  },
  {
   "cell_type": "code",
   "execution_count": 42,
   "metadata": {
    "Collapsed": "false"
   },
   "outputs": [
    {
     "name": "stdout",
     "output_type": "stream",
     "text": [
      "\n",
      "rc = \n",
      "\n",
      "PierreEricLFADS.RunCollection \"singleVsStitched_v11\" (45 runs total)\n",
      "  Dataset Collection \"export_v05_broadbandRethreshNonSorted_filtered\" (44 datasets) in /data6/Pierre42/lfads/export_v05_broadbandRethreshNonSorted_filtered\n",
      "  Path: /data6/Pierre42/lfads/runs/singleVsStitched_v11\n",
      "\n",
      "  1 parameter settings\n",
      "  [1 param_39KY_p data_bPkSOi] PierreEricLFADS.RunParams \"\" align=GoCue preKeep=500 postKeep=700 nTrialsKeep=Inf spikeBinMs=10 c_learning_rate_stop=0.001 c_batch_size=40 c_co_dim=0 c_ci_enc_dim=100 c_ic_enc_dim=100 c_factors_dim=16 c_do_train_readin=false useAlignmentMatrix=true\n",
      "\n",
      "  45 run specifications\n",
      "  [ 1] LFADS.RunSpec \"single_subject_Pierre.date_2016-08-19.saveTagGroup_1.saveTag_2_3_5_export\" (1 datasets)\n",
      "  [ 2] LFADS.RunSpec \"single_subject_Pierre.date_2016-08-23.saveTagGroup_1.saveTag_1_2_3_4_5_7_export\" (1 datasets)\n",
      "  [ 3] LFADS.RunSpec \"single_subject_Pierre.date_2016-08-24.saveTagGroup_1.saveTag_1_2_3_4_5_6_7_8_9_10_11_12_export\" (1 datasets)\n",
      "  [ 4] LFADS.RunSpec \"single_subject_Pierre.date_2016-08-25.saveTagGroup_1.saveTag_1_2_3_4_5_6_7_8_9_10_11_export\" (1 datasets)\n",
      "  [ 5] LFADS.RunSpec \"single_subject_Pierre.date_2016-08-26.saveTagGroup_1.saveTag_1_2_3_4_5_6_7_8_9_10_11_12_14_export\" (1 datasets)\n",
      "  [ 6] LFADS.RunSpec \"single_subject_Pierre.date_2016-08-31.saveTagGroup_1.saveTag_2_3_4_5_6_7_8_9_10_11_12_13_14_15_16_17_18_export\" (1 datasets)\n",
      "  [ 7] LFADS.RunSpec \"single_subject_Pierre.date_2016-09-01.saveTagGroup_1.saveTag_3_4_5_6_7_8_9_10_11_12_13_14_export\" (1 datasets)\n",
      "  [ 8] LFADS.RunSpec \"single_subject_Pierre.date_2016-09-03.saveTagGroup_2.saveTag_7_8_9_10_11_12_export\" (1 datasets)\n",
      "  [ 9] LFADS.RunSpec \"single_subject_Pierre.date_2016-09-04.saveTagGroup_2.saveTag_1_2_3_4_5_6_7_8_9_10_11_export\" (1 datasets)\n",
      "  [10] LFADS.RunSpec \"single_subject_Pierre.date_2016-09-05.saveTagGroup_1.saveTag_4_5_6_7_8_9_10_11_export\" (1 datasets)\n",
      "  [11] LFADS.RunSpec \"single_subject_Pierre.date_2016-09-14.saveTagGroup_1.saveTag_2_4_5_6_7_8_9_10_11_export\" (1 datasets)\n",
      "  [12] LFADS.RunSpec \"single_subject_Pierre.date_2016-09-15.saveTagGroup_1.saveTag_5_6_7_8_9_10_11_12_13_14_15_16_17_18_19_export\" (1 datasets)\n",
      "  [13] LFADS.RunSpec \"single_subject_Pierre.date_2016-09-16.saveTagGroup_1.saveTag_3_4_5_6_7_8_export\" (1 datasets)\n",
      "  [14] LFADS.RunSpec \"single_subject_Pierre.date_2016-09-16.saveTagGroup_2.saveTag_9_10_11_12_13_14_export\" (1 datasets)\n",
      "  [15] LFADS.RunSpec \"single_subject_Pierre.date_2016-09-17.saveTagGroup_1.saveTag_2_3_4_5_6_export\" (1 datasets)\n",
      "  [16] LFADS.RunSpec \"single_subject_Pierre.date_2016-09-17.saveTagGroup_2.saveTag_8_9_10_11_12_export\" (1 datasets)\n",
      "  [17] LFADS.RunSpec \"single_subject_Pierre.date_2016-09-20.saveTagGroup_1.saveTag_2_3_4_5_6_7_9_export\" (1 datasets)\n",
      "  [18] LFADS.RunSpec \"single_subject_Pierre.date_2016-09-20.saveTagGroup_2.saveTag_10_11_12_13_14_15_16_17_18_export\" (1 datasets)\n",
      "  [19] LFADS.RunSpec \"single_subject_Pierre.date_2016-09-21.saveTagGroup_1.saveTag_2_3_4_5_6_7_8_9_10_export\" (1 datasets)\n",
      "  [20] LFADS.RunSpec \"single_subject_Pierre.date_2016-09-21.saveTagGroup_2.saveTag_12_13_14_15_16_17_18_export\" (1 datasets)\n",
      "  [21] LFADS.RunSpec \"single_subject_Pierre.date_2016-09-22.saveTagGroup_1.saveTag_1_2_3_4_5_6_7_8_9_10_export\" (1 datasets)\n",
      "  [22] LFADS.RunSpec \"single_subject_Pierre.date_2016-09-23.saveTagGroup_1.saveTag_1_2_3_4_5_6_7_8_9_export\" (1 datasets)\n",
      "  [23] LFADS.RunSpec \"single_subject_Pierre.date_2016-09-26.saveTagGroup_1.saveTag_2_3_4_5_6_7_8_9_10_export\" (1 datasets)\n",
      "  [24] LFADS.RunSpec \"single_subject_Pierre.date_2016-09-27.saveTagGroup_1.saveTag_1_2_3_4_5_6_7_8_9_10_export\" (1 datasets)\n",
      "  [25] LFADS.RunSpec \"single_subject_Pierre.date_2016-09-27.saveTagGroup_2.saveTag_11_12_13_14_15_16_17_18_19_20_21_22_23_export\" (1 datasets)\n",
      "  [26] LFADS.RunSpec \"single_subject_Pierre.date_2016-09-28.saveTagGroup_1.saveTag_2_3_4_5_6_7_8_9_export\" (1 datasets)\n",
      "  [27] LFADS.RunSpec \"single_subject_Pierre.date_2016-09-28.saveTagGroup_2.saveTag_10_11_12_13_14_15_export\" (1 datasets)\n",
      "  [28] LFADS.RunSpec \"single_subject_Pierre.date_2016-09-29.saveTagGroup_1.saveTag_3_4_5_6_7_export\" (1 datasets)\n",
      "  [29] LFADS.RunSpec \"single_subject_Pierre.date_2016-09-29.saveTagGroup_2.saveTag_8_9_10_11_12_13_14_export\" (1 datasets)\n",
      "  [30] LFADS.RunSpec \"single_subject_Pierre.date_2016-11-21.saveTagGroup_1.saveTag_1_2_export\" (1 datasets)\n",
      "  [31] LFADS.RunSpec \"single_subject_Pierre.date_2016-11-22.saveTagGroup_1.saveTag_1_2_3_4_export\" (1 datasets)\n",
      "  [32] LFADS.RunSpec \"single_subject_Pierre.date_2016-11-23.saveTagGroup_1.saveTag_2_3_4_export\" (1 datasets)\n",
      "  [33] LFADS.RunSpec \"single_subject_Pierre.date_2016-12-04.saveTagGroup_1.saveTag_1_2_export\" (1 datasets)\n",
      "  [34] LFADS.RunSpec \"single_subject_Pierre.date_2016-12-07.saveTagGroup_1.saveTag_2_3_export\" (1 datasets)\n",
      "  [35] LFADS.RunSpec \"single_subject_Pierre.date_2016-12-08.saveTagGroup_1.saveTag_1_2_3_export\" (1 datasets)\n",
      "  [36] LFADS.RunSpec \"single_subject_Pierre.date_2016-12-11.saveTagGroup_2.saveTag_1_2_3_4_5_6_export\" (1 datasets)\n",
      "  [37] LFADS.RunSpec \"single_subject_Pierre.date_2016-12-12.saveTagGroup_1.saveTag_3_4_5_6_7_8_export\" (1 datasets)\n",
      "  [38] LFADS.RunSpec \"single_subject_Pierre.date_2016-12-19.saveTagGroup_1.saveTag_1_2_3_4_5_6_7_export\" (1 datasets)\n",
      "  [39] LFADS.RunSpec \"single_subject_Pierre.date_2016-12-20.saveTagGroup_1.saveTag_1_2_3_4_5_export\" (1 datasets)\n",
      "  [40] LFADS.RunSpec \"single_subject_Pierre.date_2016-12-21.saveTagGroup_1.saveTag_1_2_3_4_5_6_7_8_9_10_export\" (1 datasets)\n",
      "  [41] LFADS.RunSpec \"single_subject_Pierre.date_2016-12-22.saveTagGroup_1.saveTag_1_2_3_4_5_6_7_8_9_10_11_export\" (1 datasets)\n",
      "  [42] LFADS.RunSpec \"single_subject_Pierre.date_2016-12-25.saveTagGroup_2.saveTag_4_5_6_7_8_9_export\" (1 datasets)\n",
      "  [43] LFADS.RunSpec \"single_subject_Pierre.date_2017-01-27.saveTagGroup_1.saveTag_3_4_5_6_7_8_9_export\" (1 datasets)\n",
      "  [44] LFADS.RunSpec \"single_subject_Pierre.date_2017-01-28.saveTagGroup_2.saveTag_1_2_3_4_5_6_7_8_export\" (1 datasets)\n",
      "  [45] LFADS.RunSpec \"all\" (44 datasets)\n",
      "\n",
      "                                        name: 'singleVsStitched_v11'\n",
      "                                     comment: ''\n",
      "                                    rootPath: '/data6/Pierre42/lfads/runs'\n",
      "                                     version: 20171107\n",
      "                           datasetCollection: [1×1 PierreEricLFADS.DatasetCollection]\n",
      "                                        runs: [45×1 PierreEricLFADS.Run]\n",
      "                                      params: [1×1 PierreEricLFADS.RunParams]\n",
      "                                    runSpecs: [45×1 LFADS.RunSpec]\n",
      "                                     nParams: 1\n",
      "                                   nRunSpecs: 45\n",
      "                                  nRunsTotal: 45\n",
      "                                   nDatasets: 44\n",
      "                                datasetNames: {44×1 cell}\n",
      "                                    datasets: [44×1 PierreEricLFADS.Dataset]\n",
      "                                        path: '/data6/Pierre42/lfads/runs/singleVsStitched_v11'\n",
      "                    pathsCommonDataForParams: {'/data6/Pierre42/lfads/runs/singleVsStitched_v11/data_bPkSOi'}\n",
      "                              pathsForParams: {'/data6/Pierre42/lfads/runs/singleVsStitched_v11/param_39KY_p'}\n",
      "                  fileShellScriptTensorboard: '/data6/Pierre42/lfads/runs/singleVsStitched_v11/launch_tensorboard.sh'\n",
      "                             fileSummaryText: '/data6/Pierre42/lfads/runs/singleVsStitched_v11/summary.txt'\n",
      "                     fileShellScriptRunQueue: '/data6/Pierre42/lfads/runs/singleVsStitched_v11/run_lfadsqueue.py'\n",
      "    fileShellScriptRunQueuePosteriorMeanOnly: '/data6/Pierre42/lfads/runs/singleVsStitched_v11/run_lfadsqueue_posteriorMeanOnly.py'\n",
      "\n"
     ]
    }
   ],
   "source": [
    "rc"
   ]
  },
  {
   "cell_type": "markdown",
   "metadata": {
    "Collapsed": "false"
   },
   "source": [
    "# Export for LFADS "
   ]
  },
  {
   "cell_type": "code",
   "execution_count": 44,
   "metadata": {
    "Collapsed": "false",
    "scrolled": true
   },
   "outputs": [
    {
     "name": "stdout",
     "output_type": "stream",
     "text": [
      "Generating input data for each run :      0% [               ]    2.2% [               ]    4.4% [               ]    6.7% [_              ]    8.9% [_              ]   11.1% [_              ]   13.3% [_              ]   15.6% [__             ]   17.8% [__             ]     20% [___            ]   22.2% [___            ]   24.4% [___            ]   26.7% [____           ]   28.9% [____           ]   31.1% [____           ]   33.3% [____           ]   35.6% [_____          ]   37.8% [_____          ]     40% [______         ]   42.2% [______         ]   44.4% [______         ]   46.7% [_______        ]   48.9% [_______        ]   51.1% [_______        ]   53.3% [_______        ]   55.6% [________       ]   57.8% [________       ]     60% [_________      ]   62.2% [_________      ]   64.4% [_________      ]   66.7% [__________     ]   68.9% [__________     ]   71.1% [__________     ]   73.3% [__________     ]   75.6% [___________    ]   77.8% [___________    ]     80% [____________   ]   82.2% [____________   ]   84.4% [____________   ]   86.7% [_____________  ]   88.9% [_____________  ]   91.1% [_____________  ]   93.3% [_____________  ]   95.6% [______________ ]   97.8% [______________ ]   Writing LFADS Input files :      0% [               ]    100% [_______________]   \n",
      "Writing LFADS inputInfo.mat files :      0% [               ]   27.3% [____           ]   54.5% [________       ]   81.8% [____________   ]    100% [_______________]   \n",
      "   100% [_______________]   \n",
      "Writing shell scripts for each run :      0% [               ]    2.2% [               ]    4.4% [               ]    6.7% [_              ]    8.9% [_              ]   11.1% [_              ]   13.3% [_              ]   15.6% [__             ]   17.8% [__             ]     20% [___            ]   22.2% [___            ]   24.4% [___            ]   26.7% [____           ]   28.9% [____           ]   31.1% [____           ]   33.3% [____           ]   35.6% [_____          ]   37.8% [_____          ]     40% [______         ]   42.2% [______         ]   44.4% [______         ]   46.7% [_______        ]   48.9% [_______        ]   51.1% [_______        ]   53.3% [_______        ]   55.6% [________       ]   57.8% [________       ]     60% [_________      ]   62.2% [_________      ]   64.4% [_________      ]   66.7% [__________     ]   68.9% [__________     ]   71.1% [__________     ]   73.3% [__________     ]   75.6% [___________    ]   77.8% [___________    ]     80% [____________   ]   82.2% [____________   ]   84.4% [____________   ]   86.7% [_____________  ]   88.9% [_____________  ]   91.1% [_____________  ]   93.3% [_____________  ]   95.6% [______________ ]   97.8% [______________ ]    100% [_______________]   \n"
     ]
    }
   ],
   "source": [
    "rc.prepareForLFADS();\n",
    "rc.writeSummaryText();\n",
    "rc.writeTensorboardShellScript();\n",
    "rc.writeShellScriptRunQueue('display', 0);"
   ]
  },
  {
   "cell_type": "markdown",
   "metadata": {
    "Collapsed": "false"
   },
   "source": [
    "# Run LFADS"
   ]
  },
  {
   "cell_type": "markdown",
   "metadata": {
    "Collapsed": "false"
   },
   "source": [
    "Here you would run the LFADS run queue bash script located in\n",
    "\n",
    "```\n",
    "/data6/Pierre42/lfads/runs/singleVsStitched_v11/run_lfadsqueue.py\n",
    "```\n",
    "\n",
    "For reference, see https://lfads.github.io/lfads-run-manager/running/"
   ]
  },
  {
   "cell_type": "markdown",
   "metadata": {
    "Collapsed": "false"
   },
   "source": [
    "# Load in the results of LFADS"
   ]
  },
  {
   "cell_type": "code",
   "execution_count": 45,
   "metadata": {
    "Collapsed": "false"
   },
   "outputs": [
    {
     "name": "stdout",
     "output_type": "stream",
     "text": [
      "Loading posterior mean samples :      0% [               ]   Loading posterior means for each dataset :      0% [               ]    100% [_______________]   \n",
      "   2.2% [               ]   Loading posterior means for each dataset :      0% [               ]    100% [_______________]   \n",
      "   4.4% [               ]   Loading posterior means for each dataset :      0% [               ]    100% [_______________]   \n",
      "   6.7% [_              ]   Loading posterior means for each dataset :      0% [               ]    100% [_______________]   \n",
      "   8.9% [_              ]   Loading posterior means for each dataset :      0% [               ]    100% [_______________]   \n",
      "  11.1% [_              ]   Loading posterior means for each dataset :      0% [               ]    100% [_______________]   \n",
      "  13.3% [_              ]   Loading posterior means for each dataset :      0% [               ]    100% [_______________]   \n",
      "  15.6% [__             ]   Loading posterior means for each dataset :      0% [               ]    100% [_______________]   \n",
      "  17.8% [__             ]   Loading posterior means for each dataset :      0% [               ]    100% [_______________]   \n",
      "    20% [___            ]   Loading posterior means for each dataset :      0% [               ]    100% [_______________]   \n",
      "  22.2% [___            ]   Loading posterior means for each dataset :      0% [               ]    100% [_______________]   \n",
      "  24.4% [___            ]   Loading posterior means for each dataset :      0% [               ]    100% [_______________]   \n",
      "  26.7% [____           ]   Loading posterior means for each dataset :      0% [               ]    100% [_______________]   \n",
      "  28.9% [____           ]   Loading posterior means for each dataset :      0% [               ]    100% [_______________]   \n",
      "  31.1% [____           ]   Loading posterior means for each dataset :      0% [               ]    100% [_______________]   \n",
      "  33.3% [____           ]   Loading posterior means for each dataset :      0% [               ]    100% [_______________]   \n",
      "  35.6% [_____          ]   Loading posterior means for each dataset :      0% [               ]    100% [_______________]   \n",
      "  37.8% [_____          ]   Loading posterior means for each dataset :      0% [               ]    100% [_______________]   \n",
      "    40% [______         ]   Loading posterior means for each dataset :      0% [               ]    100% [_______________]   \n",
      "  42.2% [______         ]   Loading posterior means for each dataset :      0% [               ]    100% [_______________]   \n",
      "  44.4% [______         ]   Loading posterior means for each dataset :      0% [               ]    100% [_______________]   \n",
      "  46.7% [_______        ]   Loading posterior means for each dataset :      0% [               ]    100% [_______________]   \n",
      "  48.9% [_______        ]   Loading posterior means for each dataset :      0% [               ]    100% [_______________]   \n",
      "  51.1% [_______        ]   Loading posterior means for each dataset :      0% [               ]    100% [_______________]   \n",
      "  53.3% [_______        ]   Loading posterior means for each dataset :      0% [               ]    100% [_______________]   \n",
      "  55.6% [________       ]   Loading posterior means for each dataset :      0% [               ]    100% [_______________]   \n",
      "  57.8% [________       ]   Loading posterior means for each dataset :      0% [               ]    100% [_______________]   \n",
      "    60% [_________      ]   Loading posterior means for each dataset :      0% [               ]    100% [_______________]   \n",
      "  62.2% [_________      ]   Loading posterior means for each dataset :      0% [               ]    100% [_______________]   \n",
      "  64.4% [_________      ]   Loading posterior means for each dataset :      0% [               ]    100% [_______________]   \n",
      "  66.7% [__________     ]   Loading posterior means for each dataset :      0% [               ]    100% [_______________]   \n",
      "  68.9% [__________     ]   Loading posterior means for each dataset :      0% [               ]    100% [_______________]    100% [_______________]   \n",
      "  71.1% [__________     ]   Loading posterior means for each dataset :      0% [               ]    100% [_______________]   \n",
      "  73.3% [__________     ]   Loading posterior means for each dataset :      0% [               ]    100% [_______________]   \n",
      "  75.6% [___________    ]   Loading posterior means for each dataset :      0% [               ]    100% [_______________]   \n",
      "  77.8% [___________    ]   Loading posterior means for each dataset :      0% [               ]    100% [_______________]   \n",
      "    80% [____________   ]   Loading posterior means for each dataset :      0% [               ]    100% [_______________]   \n",
      "  82.2% [____________   ]   Loading posterior means for each dataset :      0% [               ]    100% [_______________]   \n",
      "  84.4% [____________   ]   Loading posterior means for each dataset :      0% [               ]    100% [_______________]   \n",
      "  86.7% [_____________  ]   Loading posterior means for each dataset :      0% [               ]    100% [_______________]   \n",
      "  88.9% [_____________  ]   Loading posterior means for each dataset :      0% [               ]    100% [_______________]   \n",
      "  91.1% [_____________  ]   Loading posterior means for each dataset :      0% [               ]    100% [_______________]   \n",
      "  93.3% [_____________  ]   Loading posterior means for each dataset :      0% [               ]    100% [_______________]   \n",
      "  95.6% [______________ ]   Loading posterior means for each dataset :      0% [               ]    100% [_______________]   \n",
      "  97.8% [______________ ]   Loading posterior means for each dataset :      0% [               ]    2.3% [               ]    4.5% [               ]    6.8% [_              ]    9.1% [_              ]   11.4% [_              ]   13.6% [__             ]   15.9% [__             ]   18.2% [__             ]   20.5% [___            ]   22.7% [___            ]     25% [___            ]   27.3% [____           ]   29.5% [____           ]   31.8% [____           ]   34.1% [_____          ]   36.4% [_____          ]   38.6% [_____          ]   40.9% [______         ]   43.2% [______         ]   45.5% [______         ]   47.7% [_______        ]     50% [_______        ]   52.3% [_______        ]   54.5% [________       ]   56.8% [________       ]   59.1% [________       ]   61.4% [_________      ]   63.6% [_________      ]   65.9% [_________      ]   68.2% [__________     ]   70.5% [__________     ]   72.7% [__________     ]     75% [___________    ]   77.3% [___________    ]   79.5% [___________    ]   81.8% [____________   ]   84.1% [____________   ]   86.4% [____________   ]   88.6% [_____________  ]   90.9% [_____________  ]   93.2% [_____________  ]   95.5% [______________ ]   97.7% [______________ ]    100% [_______________]   \n",
      "   100% [_______________]   \n"
     ]
    }
   ],
   "source": [
    "rc.loadPosteriorMeans()"
   ]
  },
  {
   "cell_type": "code",
   "execution_count": 46,
   "metadata": {
    "Collapsed": "false"
   },
   "outputs": [
    {
     "name": "stdout",
     "output_type": "stream",
     "text": [
      "\n",
      "ans = \n",
      "\n",
      "  PosteriorMeans with properties:\n",
      "\n",
      "                        kind: 'posterior_sample_and_average'\n",
      "                        time: [1×120 double]\n",
      "          controller_outputs: []\n",
      "                     factors: [16×120×212 double]\n",
      "                post_g0_mean: [64×212 double]\n",
      "              post_g0_logvar: [64×212 double]\n",
      "               generator_ics: [100×212 double]\n",
      "            generator_states: [100×120×212 double]\n",
      "                       rates: [24×120×212 double]\n",
      "                       costs: [212×1 double]\n",
      "              nll_bound_vaes: [212×1 double]\n",
      "             nll_bound_iwaes: [212×1 double]\n",
      "                   validInds: [43×1 uint16]\n",
      "                   trainInds: [169×1 double]\n",
      "                      params: [1×1 PierreEricLFADS.RunParams]\n",
      "                conditionIds: {212×1 cell}\n",
      "                   rawCounts: [24×1200×212 double]\n",
      "              externalInputs: []\n",
      "         datasetIndexByTrial: [212×1 double]\n",
      "                  binWidthMs: 10\n",
      "    scaleFactorCountsToRates: 100\n",
      "                     isValid: 1\n",
      "          nControllerOutputs: 0\n",
      "             nGeneratorUnits: 100\n",
      "                    nFactors: 16\n",
      "                    nNeurons: 24\n",
      "                           T: 120\n",
      "                     nTrials: 212\n",
      "\n"
     ]
    }
   ],
   "source": [
    "rc.runs(1).posteriorMeans"
   ]
  },
  {
   "cell_type": "code",
   "execution_count": 47,
   "metadata": {
    "Collapsed": "false"
   },
   "outputs": [
    {
     "name": "stdout",
     "output_type": "stream",
     "text": [
      "Exporting posterior means as HDF5 :      0% [               ]   Exporting to /data6/Pierre42/lfads/runs/singleVsStitched_v11/posterior_means_export/single_subject_Pierre.date_2016-08-19.saveTagGroup_1.saveTag_2_3_5_export\n",
      "Exporting Posterior Means :      0% [               ]    100% [_______________]   \n",
      "   2.2% [               ]   Exporting to /data6/Pierre42/lfads/runs/singleVsStitched_v11/posterior_means_export/single_subject_Pierre.date_2016-08-23.saveTagGroup_1.saveTag_1_2_3_4_5_7_export\n",
      "Exporting Posterior Means :      0% [               ]    100% [_______________]   \n",
      "   4.4% [               ]   Exporting to /data6/Pierre42/lfads/runs/singleVsStitched_v11/posterior_means_export/single_subject_Pierre.date_2016-08-24.saveTagGroup_1.saveTag_1_2_3_4_5_6_7_8_9_10_11_12_export\n",
      "Exporting Posterior Means :      0% [               ]    100% [_______________]   \n",
      "   6.7% [_              ]   Exporting to /data6/Pierre42/lfads/runs/singleVsStitched_v11/posterior_means_export/single_subject_Pierre.date_2016-08-25.saveTagGroup_1.saveTag_1_2_3_4_5_6_7_8_9_10_11_export\n",
      "Exporting Posterior Means :      0% [               ]    100% [_______________]   \n",
      "   8.9% [_              ]   Exporting to /data6/Pierre42/lfads/runs/singleVsStitched_v11/posterior_means_export/single_subject_Pierre.date_2016-08-26.saveTagGroup_1.saveTag_1_2_3_4_5_6_7_8_9_10_11_12_14_export\n",
      "Exporting Posterior Means :      0% [               ]    100% [_______________]   \n",
      "  11.1% [_              ]   Exporting to /data6/Pierre42/lfads/runs/singleVsStitched_v11/posterior_means_export/single_subject_Pierre.date_2016-08-31.saveTagGroup_1.saveTag_2_3_4_5_6_7_8_9_10_11_12_13_14_15_16_17_18_export\n",
      "Exporting Posterior Means :      0% [               ]    100% [_______________]   \n",
      "  13.3% [_              ]   Exporting to /data6/Pierre42/lfads/runs/singleVsStitched_v11/posterior_means_export/single_subject_Pierre.date_2016-09-01.saveTagGroup_1.saveTag_3_4_5_6_7_8_9_10_11_12_13_14_export\n",
      "Exporting Posterior Means :      0% [               ]    100% [_______________]   \n",
      "  15.6% [__             ]   Exporting to /data6/Pierre42/lfads/runs/singleVsStitched_v11/posterior_means_export/single_subject_Pierre.date_2016-09-03.saveTagGroup_2.saveTag_7_8_9_10_11_12_export\n",
      "Exporting Posterior Means :      0% [               ]    100% [_______________]   \n",
      "  17.8% [__             ]   Exporting to /data6/Pierre42/lfads/runs/singleVsStitched_v11/posterior_means_export/single_subject_Pierre.date_2016-09-04.saveTagGroup_2.saveTag_1_2_3_4_5_6_7_8_9_10_11_export\n",
      "Exporting Posterior Means :      0% [               ]    100% [_______________]   \n",
      "    20% [___            ]   Exporting to /data6/Pierre42/lfads/runs/singleVsStitched_v11/posterior_means_export/single_subject_Pierre.date_2016-09-05.saveTagGroup_1.saveTag_4_5_6_7_8_9_10_11_export\n",
      "Exporting Posterior Means :      0% [               ]    100% [_______________]   \n",
      "  22.2% [___            ]   Exporting to /data6/Pierre42/lfads/runs/singleVsStitched_v11/posterior_means_export/single_subject_Pierre.date_2016-09-14.saveTagGroup_1.saveTag_2_4_5_6_7_8_9_10_11_export\n",
      "Exporting Posterior Means :      0% [               ]    100% [_______________]   \n",
      "  24.4% [___            ]   Exporting to /data6/Pierre42/lfads/runs/singleVsStitched_v11/posterior_means_export/single_subject_Pierre.date_2016-09-15.saveTagGroup_1.saveTag_5_6_7_8_9_10_11_12_13_14_15_16_17_18_19_export\n",
      "Exporting Posterior Means :      0% [               ]    100% [_______________]   \n",
      "  26.7% [____           ]   Exporting to /data6/Pierre42/lfads/runs/singleVsStitched_v11/posterior_means_export/single_subject_Pierre.date_2016-09-16.saveTagGroup_1.saveTag_3_4_5_6_7_8_export\n",
      "Exporting Posterior Means :      0% [               ]    100% [_______________]   \n",
      "  28.9% [____           ]   Exporting to /data6/Pierre42/lfads/runs/singleVsStitched_v11/posterior_means_export/single_subject_Pierre.date_2016-09-16.saveTagGroup_2.saveTag_9_10_11_12_13_14_export\n",
      "Exporting Posterior Means :      0% [               ]    100% [_______________]   \n",
      "  31.1% [____           ]   Exporting to /data6/Pierre42/lfads/runs/singleVsStitched_v11/posterior_means_export/single_subject_Pierre.date_2016-09-17.saveTagGroup_1.saveTag_2_3_4_5_6_export\n",
      "Exporting Posterior Means :      0% [               ]    100% [_______________]   \n",
      "  33.3% [____           ]   Exporting to /data6/Pierre42/lfads/runs/singleVsStitched_v11/posterior_means_export/single_subject_Pierre.date_2016-09-17.saveTagGroup_2.saveTag_8_9_10_11_12_export\n",
      "Exporting Posterior Means :      0% [               ]    100% [_______________]   \n",
      "  35.6% [_____          ]   Exporting to /data6/Pierre42/lfads/runs/singleVsStitched_v11/posterior_means_export/single_subject_Pierre.date_2016-09-20.saveTagGroup_1.saveTag_2_3_4_5_6_7_9_export\n",
      "Exporting Posterior Means :      0% [               ]    100% [_______________]   \n",
      "  37.8% [_____          ]   Exporting to /data6/Pierre42/lfads/runs/singleVsStitched_v11/posterior_means_export/single_subject_Pierre.date_2016-09-20.saveTagGroup_2.saveTag_10_11_12_13_14_15_16_17_18_export\n",
      "Exporting Posterior Means :      0% [               ]    100% [_______________]   \n",
      "    40% [______         ]   Exporting to /data6/Pierre42/lfads/runs/singleVsStitched_v11/posterior_means_export/single_subject_Pierre.date_2016-09-21.saveTagGroup_1.saveTag_2_3_4_5_6_7_8_9_10_export\n",
      "Exporting Posterior Means :      0% [               ]    100% [_______________]   \n",
      "  42.2% [______         ]   Exporting to /data6/Pierre42/lfads/runs/singleVsStitched_v11/posterior_means_export/single_subject_Pierre.date_2016-09-21.saveTagGroup_2.saveTag_12_13_14_15_16_17_18_export\n",
      "Exporting Posterior Means :      0% [               ]    100% [_______________]   \n",
      "  44.4% [______         ]   Exporting to /data6/Pierre42/lfads/runs/singleVsStitched_v11/posterior_means_export/single_subject_Pierre.date_2016-09-22.saveTagGroup_1.saveTag_1_2_3_4_5_6_7_8_9_10_export\n",
      "Exporting Posterior Means :      0% [               ]    100% [_______________]   \n",
      "  46.7% [_______        ]   Exporting to /data6/Pierre42/lfads/runs/singleVsStitched_v11/posterior_means_export/single_subject_Pierre.date_2016-09-23.saveTagGroup_1.saveTag_1_2_3_4_5_6_7_8_9_export\n",
      "Exporting Posterior Means :      0% [               ]    100% [_______________]   \n",
      "  48.9% [_______        ]   Exporting to /data6/Pierre42/lfads/runs/singleVsStitched_v11/posterior_means_export/single_subject_Pierre.date_2016-09-26.saveTagGroup_1.saveTag_2_3_4_5_6_7_8_9_10_export\n",
      "Exporting Posterior Means :      0% [               ]    100% [_______________]   \n",
      "  51.1% [_______        ]   Exporting to /data6/Pierre42/lfads/runs/singleVsStitched_v11/posterior_means_export/single_subject_Pierre.date_2016-09-27.saveTagGroup_1.saveTag_1_2_3_4_5_6_7_8_9_10_export\n",
      "Exporting Posterior Means :      0% [               ]    100% [_______________]   \n",
      "  53.3% [_______        ]   Exporting to /data6/Pierre42/lfads/runs/singleVsStitched_v11/posterior_means_export/single_subject_Pierre.date_2016-09-27.saveTagGroup_2.saveTag_11_12_13_14_15_16_17_18_19_20_21_22_23_export\n",
      "Exporting Posterior Means :      0% [               ]    100% [_______________]   \n",
      "  55.6% [________       ]   Exporting to /data6/Pierre42/lfads/runs/singleVsStitched_v11/posterior_means_export/single_subject_Pierre.date_2016-09-28.saveTagGroup_1.saveTag_2_3_4_5_6_7_8_9_export\n",
      "Exporting Posterior Means :      0% [               ]    100% [_______________]   \n",
      "  57.8% [________       ]   Exporting to /data6/Pierre42/lfads/runs/singleVsStitched_v11/posterior_means_export/single_subject_Pierre.date_2016-09-28.saveTagGroup_2.saveTag_10_11_12_13_14_15_export\n",
      "Exporting Posterior Means :      0% [               ]    100% [_______________]   \n",
      "    60% [_________      ]   Exporting to /data6/Pierre42/lfads/runs/singleVsStitched_v11/posterior_means_export/single_subject_Pierre.date_2016-09-29.saveTagGroup_1.saveTag_3_4_5_6_7_export\n",
      "Exporting Posterior Means :      0% [               ]    100% [_______________]   \n",
      "  62.2% [_________      ]   Exporting to /data6/Pierre42/lfads/runs/singleVsStitched_v11/posterior_means_export/single_subject_Pierre.date_2016-09-29.saveTagGroup_2.saveTag_8_9_10_11_12_13_14_export\n",
      "Exporting Posterior Means :      0% [               ]    100% [_______________]   \n",
      "  64.4% [_________      ]   Exporting to /data6/Pierre42/lfads/runs/singleVsStitched_v11/posterior_means_export/single_subject_Pierre.date_2016-11-21.saveTagGroup_1.saveTag_1_2_export\n",
      "Exporting Posterior Means :      0% [               ]    100% [_______________]   \n",
      "  66.7% [__________     ]   Exporting to /data6/Pierre42/lfads/runs/singleVsStitched_v11/posterior_means_export/single_subject_Pierre.date_2016-11-22.saveTagGroup_1.saveTag_1_2_3_4_export\n",
      "Exporting Posterior Means :      0% [               ]    100% [_______________]   \n",
      "  68.9% [__________     ]   Exporting to /data6/Pierre42/lfads/runs/singleVsStitched_v11/posterior_means_export/single_subject_Pierre.date_2016-11-23.saveTagGroup_1.saveTag_2_3_4_export\n",
      "Exporting Posterior Means :      0% [               ]    100% [_______________]   \n",
      "  71.1% [__________     ]   Exporting to /data6/Pierre42/lfads/runs/singleVsStitched_v11/posterior_means_export/single_subject_Pierre.date_2016-12-04.saveTagGroup_1.saveTag_1_2_export\n",
      "Exporting Posterior Means :      0% [               ]    100% [_______________]   \n",
      "  73.3% [__________     ]   Exporting to /data6/Pierre42/lfads/runs/singleVsStitched_v11/posterior_means_export/single_subject_Pierre.date_2016-12-07.saveTagGroup_1.saveTag_2_3_export\n",
      "Exporting Posterior Means :      0% [               ]    100% [_______________]   \n",
      "  75.6% [___________    ]   Exporting to /data6/Pierre42/lfads/runs/singleVsStitched_v11/posterior_means_export/single_subject_Pierre.date_2016-12-08.saveTagGroup_1.saveTag_1_2_3_export\n",
      "Exporting Posterior Means :      0% [               ]    100% [_______________]   \n",
      "  77.8% [___________    ]   Exporting to /data6/Pierre42/lfads/runs/singleVsStitched_v11/posterior_means_export/single_subject_Pierre.date_2016-12-11.saveTagGroup_2.saveTag_1_2_3_4_5_6_export\n",
      "Exporting Posterior Means :      0% [               ]    100% [_______________]   \n",
      "    80% [____________   ]   Exporting to /data6/Pierre42/lfads/runs/singleVsStitched_v11/posterior_means_export/single_subject_Pierre.date_2016-12-12.saveTagGroup_1.saveTag_3_4_5_6_7_8_export\n",
      "Exporting Posterior Means :      0% [               ]    100% [_______________]   \n",
      "  82.2% [____________   ]   Exporting to /data6/Pierre42/lfads/runs/singleVsStitched_v11/posterior_means_export/single_subject_Pierre.date_2016-12-19.saveTagGroup_1.saveTag_1_2_3_4_5_6_7_export\n",
      "Exporting Posterior Means :      0% [               ]    100% [_______________]   \n",
      "  84.4% [____________   ]   Exporting to /data6/Pierre42/lfads/runs/singleVsStitched_v11/posterior_means_export/single_subject_Pierre.date_2016-12-20.saveTagGroup_1.saveTag_1_2_3_4_5_export\n",
      "Exporting Posterior Means :      0% [               ]    100% [_______________]   \n",
      "  86.7% [_____________  ]   Exporting to /data6/Pierre42/lfads/runs/singleVsStitched_v11/posterior_means_export/single_subject_Pierre.date_2016-12-21.saveTagGroup_1.saveTag_1_2_3_4_5_6_7_8_9_10_export\n",
      "Exporting Posterior Means :      0% [               ]    100% [_______________]   \n",
      "  88.9% [_____________  ]   Exporting to /data6/Pierre42/lfads/runs/singleVsStitched_v11/posterior_means_export/single_subject_Pierre.date_2016-12-22.saveTagGroup_1.saveTag_1_2_3_4_5_6_7_8_9_10_11_export\n",
      "Exporting Posterior Means :      0% [               ]    100% [_______________]   \n",
      "  91.1% [_____________  ]   Exporting to /data6/Pierre42/lfads/runs/singleVsStitched_v11/posterior_means_export/single_subject_Pierre.date_2016-12-25.saveTagGroup_2.saveTag_4_5_6_7_8_9_export\n",
      "Exporting Posterior Means :      0% [               ]    100% [_______________]   \n",
      "  93.3% [_____________  ]   Exporting to /data6/Pierre42/lfads/runs/singleVsStitched_v11/posterior_means_export/single_subject_Pierre.date_2017-01-27.saveTagGroup_1.saveTag_3_4_5_6_7_8_9_export\n",
      "Exporting Posterior Means :      0% [               ]    100% [_______________]   \n",
      "  95.6% [______________ ]   Exporting to /data6/Pierre42/lfads/runs/singleVsStitched_v11/posterior_means_export/single_subject_Pierre.date_2017-01-28.saveTagGroup_2.saveTag_1_2_3_4_5_6_7_8_export\n",
      "Exporting Posterior Means :      0% [               ]    100% [_______________]   \n",
      "  97.8% [______________ ]   Exporting to /data6/Pierre42/lfads/runs/singleVsStitched_v11/posterior_means_export/all\n",
      "Exporting Posterior Means :      0% [               ]    2.3% [               ]    4.5% [               ]    6.8% [_              ]    9.1% [_              ]   11.4% [_              ]   13.6% [__             ]   15.9% [__             ]   18.2% [__             ]   20.5% [___            ]   22.7% [___            ]     25% [___            ]   27.3% [____           ]   29.5% [____           ]   31.8% [____           ]   34.1% [_____          ]   36.4% [_____          ]   38.6% [_____          ]   40.9% [______         ]   43.2% [______         ]   45.5% [______         ]   47.7% [_______        ]     50% [_______        ]   52.3% [_______        ]   54.5% [________       ]   56.8% [________       ]   59.1% [________       ]   61.4% [_________      ]   63.6% [_________      ]   65.9% [_________      ]   68.2% [__________     ]   70.5% [__________     ]   72.7% [__________     ]     75% [___________    ]   77.3% [___________    ]   79.5% [___________    ]   81.8% [____________   ]   84.1% [____________   ]   86.4% [____________   ]   88.6% [_____________  ]   90.9% [_____________  ]   93.2% [_____________  ]   95.5% [______________ ]   97.7% [______________ ]    100% [_______________]   \n",
      "   100% [_______________]   \n"
     ]
    }
   ],
   "source": [
    "rc.exportResultsToH5()"
   ]
  },
  {
   "cell_type": "code",
   "execution_count": null,
   "metadata": {
    "Collapsed": "false"
   },
   "outputs": [],
   "source": []
  }
 ],
 "metadata": {
  "kernelspec": {
   "display_name": "iMatlab",
   "language": "matlab",
   "name": "imatlab"
  },
  "language_info": {
   "codemirror_mode": "octave",
   "file_extension": ".m",
   "mimetype": "text/x-matlab",
   "name": "matlab",
   "nbconvert_exporter": "imatlab._exporter.MatlabExporter",
   "pygments_lexer": "matlab",
   "version": "9.6.0.1072779 (R2019a)"
  }
 },
 "nbformat": 4,
 "nbformat_minor": 4
}
